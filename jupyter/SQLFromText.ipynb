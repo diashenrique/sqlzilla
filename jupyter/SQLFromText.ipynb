{
 "cells": [
  {
   "cell_type": "markdown",
   "id": "ad3ff884-fade-4166-b9bc-e88c4ee0d650",
   "metadata": {},
   "source": [
    "# Text to IRIS SQL with langchain"
   ]
  },
  {
   "cell_type": "markdown",
   "id": "d8724007-04b9-4f0e-80b0-4ba92ebcc149",
   "metadata": {},
   "source": [
    "An experiment on how to use langchain framework, IRIS Vector Search and LLMs to generate IRIS-compatible SQL from users' prompts."
   ]
  },
  {
   "cell_type": "markdown",
   "id": "8138b371-8c42-437f-8573-0505d5ecc1b2",
   "metadata": {},
   "source": [
    "## Setup"
   ]
  },
  {
   "cell_type": "code",
   "execution_count": 1,
   "id": "6a59c4d3-d215-4991-9839-f65ada281959",
   "metadata": {},
   "outputs": [],
   "source": [
    "!pip install --upgrade --quiet langchain langchain-openai langchain-iris pandas"
   ]
  },
  {
   "cell_type": "code",
   "execution_count": 2,
   "id": "ea732f2e-b284-4922-9e66-bec7babde7db",
   "metadata": {},
   "outputs": [],
   "source": [
    "import os\n",
    "\n",
    "from sqlalchemy import create_engine\n",
    "\n",
    "import hashlib\n",
    "\n",
    "import pandas as pd;\n",
    "\n",
    "from langchain_core.prompts import PromptTemplate, ChatPromptTemplate\n",
    "from langchain_core.example_selectors import SemanticSimilarityExampleSelector\n",
    "from langchain_openai import OpenAIEmbeddings, ChatOpenAI\n",
    "from langchain.docstore.document import Document\n",
    "from langchain_community.document_loaders import DataFrameLoader\n",
    "from langchain.text_splitter import CharacterTextSplitter\n",
    "from langchain_core.output_parsers import StrOutputParser\n",
    "from langchain_iris import IRISVector"
   ]
  },
  {
   "cell_type": "code",
   "execution_count": 3,
   "id": "f966ab66-9209-4aef-a0c4-3806c58dddcb",
   "metadata": {},
   "outputs": [],
   "source": [
    "# IRIS database connection parameters\n",
    "os.environ[\"ISC_LOCAL_SQL_HOSTNAME\"] = \"sqlzilla-iris-1\"\n",
    "os.environ[\"ISC_LOCAL_SQL_PORT\"] = \"1972\"\n",
    "os.environ[\"ISC_LOCAL_SQL_NAMESPACE\"] = \"IRISAPP\"\n",
    "os.environ[\"ISC_LOCAL_SQL_USER\"] = \"_system\"\n",
    "os.environ[\"ISC_LOCAL_SQL_PWD\"] = \"SYS\""
   ]
  },
  {
   "cell_type": "code",
   "execution_count": 4,
   "id": "9cb8b254-ec15-40e3-8bc7-10fb1eb51ded",
   "metadata": {},
   "outputs": [],
   "source": [
    "# IRIS database connection string\n",
    "args = {\n",
    "    'hostname': os.getenv(\"ISC_LOCAL_SQL_HOSTNAME\"), \n",
    "    'port': os.getenv(\"ISC_LOCAL_SQL_PORT\"), \n",
    "    'namespace': os.getenv(\"ISC_LOCAL_SQL_NAMESPACE\"), \n",
    "    'username': os.getenv(\"ISC_LOCAL_SQL_USER\"), \n",
    "    'password': os.getenv(\"ISC_LOCAL_SQL_PWD\")\n",
    "}\n",
    "iris_conn_str = f\"iris://{args['username']}:{args['password']}@{args['hostname']}:{args['port']}/{args['namespace']}\""
   ]
  },
  {
   "cell_type": "code",
   "execution_count": 5,
   "id": "1a39d9a4-0f8e-4a1f-9103-515d6f224a78",
   "metadata": {},
   "outputs": [],
   "source": [
    "# Connection to IRIS database\n",
    "engine = create_engine(iris_conn_str)\n",
    "cnx = engine.connect().connection"
   ]
  },
  {
   "cell_type": "code",
   "execution_count": 6,
   "id": "374e1539-4fb7-4bd4-98d8-29ea965feba2",
   "metadata": {},
   "outputs": [],
   "source": [
    "# Dict for context information for system prompt\n",
    "context = {}\n",
    "context[\"input\"] = \"What were the top 3 years with recorded events?\"\n",
    "context[\"top_k\"] = 3"
   ]
  },
  {
   "cell_type": "markdown",
   "id": "83f3bca1-2b0d-4a49-8adc-6ed68b3e64ce",
   "metadata": {},
   "source": [
    "## Prompt creation"
   ]
  },
  {
   "cell_type": "code",
   "execution_count": 7,
   "id": "592defad-b72a-4820-b901-75747d1ae6dc",
   "metadata": {},
   "outputs": [],
   "source": [
    "iris_sql_template = \"\"\"\n",
    "You are an InterSystems IRIS expert. Given an input question, first create a syntactically correct InterSystems IRIS query to run and return the answer to the input question.\n",
    "Unless the user specifies in the question a specific number of examples to obtain, query for at most {top_k} results using the TOP clause as per InterSystems IRIS. You can order the results to return the most informative data in the database.\n",
    "Never query for all columns from a table. You must query only the columns that are needed to answer the question. Wrap each column name in single quotes ('') to denote them as delimited identifiers.\n",
    "Pay attention to use only the column names you can see in the tables below. Be careful to not query for columns that do not exist. Also, pay attention to which column is in which table.\n",
    "Pay attention to use CAST(CURRENT_DATE as date) function to get the current date, if the question involves \"today\".\n",
    "\"\"\""
   ]
  },
  {
   "cell_type": "code",
   "execution_count": 8,
   "id": "600a1993-5909-413f-b3f0-6e1a0920b069",
   "metadata": {},
   "outputs": [],
   "source": [
    "tables_prompt_template = \"\"\"\n",
    "Only use the following tables:\n",
    "{table_info}\n",
    "\"\"\""
   ]
  },
  {
   "cell_type": "code",
   "execution_count": 9,
   "id": "ed7d5413-6ac8-4cd3-b5d9-8259a0f28d7a",
   "metadata": {},
   "outputs": [],
   "source": [
    "prompt_sql_few_shots_template = \"\"\"\n",
    "Below are a number of examples of questions and their corresponding SQL queries.\n",
    "\n",
    "{examples_value}\n",
    "\"\"\""
   ]
  },
  {
   "cell_type": "code",
   "execution_count": 10,
   "id": "2481a3ca-3516-4f78-bcb4-823fb173da86",
   "metadata": {},
   "outputs": [],
   "source": [
    "example_prompt_template = \"User input: {input}\\nSQL query: {query}\"\n",
    "example_prompt = PromptTemplate.from_template(example_prompt_template)"
   ]
  },
  {
   "cell_type": "code",
   "execution_count": 11,
   "id": "411c9299-054c-41bc-9510-cd742fac83c5",
   "metadata": {},
   "outputs": [],
   "source": [
    "user_prompt = \"\\n\"+example_prompt.invoke({\"input\": \"{input}\", \"query\": \"\"}).to_string()"
   ]
  },
  {
   "cell_type": "code",
   "execution_count": 12,
   "id": "f435b64b-9b1b-4f23-8c12-37062f05e318",
   "metadata": {},
   "outputs": [
    {
     "data": {
      "text/plain": [
       "ChatPromptTemplate(input_variables=['examples_value', 'input', 'table_info', 'top_k'], messages=[SystemMessagePromptTemplate(prompt=PromptTemplate(input_variables=['top_k'], template='\\nYou are an InterSystems IRIS expert. Given an input question, first create a syntactically correct InterSystems IRIS query to run and return the answer to the input question.\\nUnless the user specifies in the question a specific number of examples to obtain, query for at most {top_k} results using the TOP clause as per InterSystems IRIS. You can order the results to return the most informative data in the database.\\nNever query for all columns from a table. You must query only the columns that are needed to answer the question. Wrap each column name in single quotes (\\'\\') to denote them as delimited identifiers.\\nPay attention to use only the column names you can see in the tables below. Be careful to not query for columns that do not exist. Also, pay attention to which column is in which table.\\nPay attention to use CAST(CURRENT_DATE as date) function to get the current date, if the question involves \"today\".\\n')), SystemMessagePromptTemplate(prompt=PromptTemplate(input_variables=['table_info'], template='\\nOnly use the following tables:\\n{table_info}\\n')), SystemMessagePromptTemplate(prompt=PromptTemplate(input_variables=['examples_value'], template='\\nBelow are a number of examples of questions and their corresponding SQL queries.\\n\\n{examples_value}\\n')), HumanMessagePromptTemplate(prompt=PromptTemplate(input_variables=['input'], template='\\nUser input: {input}\\nSQL query: '))])"
      ]
     },
     "execution_count": 12,
     "metadata": {},
     "output_type": "execute_result"
    }
   ],
   "source": [
    "prompt = (\n",
    "    ChatPromptTemplate.from_messages([(\"system\", iris_sql_template)])\n",
    "    + ChatPromptTemplate.from_messages([(\"system\", tables_prompt_template)])\n",
    "    + ChatPromptTemplate.from_messages([(\"system\", prompt_sql_few_shots_template)])\n",
    "    + ChatPromptTemplate.from_messages([(\"human\", user_prompt)])\n",
    ")\n",
    "prompt"
   ]
  },
  {
   "cell_type": "markdown",
   "id": "c9592aff-fa17-43d7-8d58-f7ee968411fb",
   "metadata": {},
   "source": [
    "## Auxiliary functions"
   ]
  },
  {
   "cell_type": "code",
   "execution_count": 13,
   "id": "8ff693a8-06c7-43e3-9cdb-bf144b601470",
   "metadata": {
    "jupyter": {
     "source_hidden": true
    }
   },
   "outputs": [],
   "source": [
    "# todo: add foreign key definitions\n",
    "def get_table_definitions_array(cnx, schema, table=None):\n",
    "    \"\"\"\n",
    "    Generate SQL `CREATE TABLE` statements for tables in a given schema.\n",
    "\n",
    "    This function queries the database to retrieve column definitions and \n",
    "    constructs SQL `CREATE TABLE` statements for each table within the specified schema. \n",
    "    If a specific table name is provided, it generates the statement only for that table.\n",
    "\n",
    "    Args:\n",
    "        cnx: An IRIS connection object.\n",
    "        schema (str): The name of the schema to retrieve table definitions from.\n",
    "        table (str, optional): The name of a specific table to retrieve the definition for. \n",
    "                               If not provided, definitions for all tables in the schema are retrieved.\n",
    "\n",
    "    Returns:\n",
    "        list of str: A list of SQL `CREATE TABLE` statements as strings.\n",
    "    \"\"\"\n",
    "    \n",
    "    cursor = cnx.cursor()\n",
    "\n",
    "    # Base query to get columns information\n",
    "    query = \"\"\"\n",
    "    SELECT TABLE_SCHEMA, TABLE_NAME, COLUMN_NAME, DATA_TYPE, IS_NULLABLE, COLUMN_DEFAULT, PRIMARY_KEY, null EXTRA\n",
    "    FROM INFORMATION_SCHEMA.COLUMNS\n",
    "    WHERE TABLE_SCHEMA = %s\n",
    "    \"\"\"\n",
    "    \n",
    "    # Parameters for the query\n",
    "    params = [schema]\n",
    "\n",
    "    # Adding optional filters\n",
    "    if table:\n",
    "        query += \" AND TABLE_NAME = %s\"\n",
    "        params.append(table)\n",
    "    \n",
    "    # Execute the query\n",
    "    cursor.execute(query, params)\n",
    "\n",
    "    # Fetch the results\n",
    "    rows = cursor.fetchall()\n",
    "    \n",
    "    # Process the results to generate the table definition(s)\n",
    "    table_definitions = {}\n",
    "    for row in rows:\n",
    "        table_schema, table_name, column_name, column_type, is_nullable, column_default, column_key, extra = row\n",
    "        if table_name not in table_definitions:\n",
    "            table_definitions[table_name] = []\n",
    "        table_definitions[table_name].append({\n",
    "            \"column_name\": column_name,\n",
    "            \"column_type\": column_type,\n",
    "            \"is_nullable\": is_nullable,\n",
    "            \"column_default\": column_default,\n",
    "            \"column_key\": column_key,\n",
    "            \"extra\": extra\n",
    "        })\n",
    "\n",
    "    primary_keys = {}\n",
    "    \n",
    "    # Build the output string\n",
    "    result = []\n",
    "    for table_name, columns in table_definitions.items():\n",
    "        table_def = f\"CREATE TABLE {schema}.{table_name} (\\n\"\n",
    "        column_definitions = []\n",
    "        for column in columns:\n",
    "            column_def = f\"  {column['column_name']} {column['column_type']}\"\n",
    "            if column['is_nullable'] == \"NO\":\n",
    "                column_def += \" NOT NULL\"\n",
    "            if column['column_default'] is not None:\n",
    "                column_def += f\" DEFAULT {column['column_default']}\"\n",
    "            if column['extra']:\n",
    "                column_def += f\" {column['extra']}\"\n",
    "            column_definitions.append(column_def)\n",
    "        if table_name in primary_keys:\n",
    "            pk_def = f\"  PRIMARY KEY ({', '.join(primary_keys[table_name])})\"\n",
    "            column_definitions.append(pk_def)\n",
    "        table_def += \",\\n\".join(column_definitions)\n",
    "        table_def += \"\\n);\"\n",
    "        result.append(table_def)\n",
    "\n",
    "    return result"
   ]
  },
  {
   "cell_type": "code",
   "execution_count": 14,
   "id": "0b9283c0-d675-4877-8af8-e7ba5f44ba4e",
   "metadata": {
    "jupyter": {
     "source_hidden": true
    }
   },
   "outputs": [],
   "source": [
    "def get_table_definitions(cnx, schema, table=None):\n",
    "    \"\"\"\n",
    "    Generate SQL `CREATE TABLE` statements as a single string for tables in a given schema.\n",
    "\n",
    "    This function uses `get_table_definitions_array` to retrieve column definitions and \n",
    "    constructs SQL `CREATE TABLE` statements for each table within the specified schema. \n",
    "    If a specific table name is provided, it generates the statement only for that table.\n",
    "    The results are concatenated into a single string.\n",
    "\n",
    "    Args:\n",
    "        cnx: An IRIS connection object.\n",
    "        schema (str): The name of the schema to retrieve table definitions from.\n",
    "        table (str, optional): The name of a specific table to retrieve the definition for. \n",
    "                               If not provided, definitions for all tables in the schema are retrieved.\n",
    "\n",
    "    Returns:\n",
    "        str: A single string containing SQL `CREATE TABLE` statements separated by double newlines.\n",
    "    \"\"\"\n",
    "\n",
    "    return \"\\n\\n\".join(get_table_definitions_array(cnx=cnx, schema=schema, table=table))"
   ]
  },
  {
   "cell_type": "code",
   "execution_count": 15,
   "id": "9b1b6684-1df3-4cbb-96c5-3bdce68e84c4",
   "metadata": {
    "jupyter": {
     "source_hidden": true
    }
   },
   "outputs": [],
   "source": [
    "def get_ids_from_string_array(array):\n",
    "    \"\"\"\n",
    "    Generate hash IDs for a list of strings to identify documents by their content and avoid duplications in the vector store.\n",
    "\n",
    "    This function takes an array of strings and returns a list of MD5 hash values for each string. \n",
    "    These hash values can be used to identify the content of the documents, helping to prevent duplicate entries in the vector store.\n",
    "\n",
    "    Args:\n",
    "        array (list of str): A list of strings to be hashed.\n",
    "\n",
    "    Returns:\n",
    "        list of str: A list of MD5 hash values as hexadecimal strings.\n",
    "    \"\"\"\n",
    "\n",
    "    return [str(hashlib.md5(x.encode()).hexdigest()) for x in array]"
   ]
  },
  {
   "cell_type": "code",
   "execution_count": 16,
   "id": "899975c2-3d05-46bd-b59e-9ffbda93e712",
   "metadata": {},
   "outputs": [],
   "source": [
    "def exists_in_db(cnx, collection_name, id):\n",
    "    \"\"\"\n",
    "    Check if a record with a specific ID exists in a given database collection.\n",
    "\n",
    "    This function queries the database to determine whether a record with the specified ID exists \n",
    "    in the specified collection (table).\n",
    "\n",
    "    Args:\n",
    "        cnx: An IRIS connection object.\n",
    "        collection_name (str): The name of the collection (table) to search.\n",
    "        id (str): The ID of the record to check for existence.\n",
    "\n",
    "    Returns:\n",
    "        bool: True if a record with the specified ID exists in the collection, False otherwise.\n",
    "    \"\"\"\n",
    "    \n",
    "    schema_name = \"SQLUser\"\n",
    "    \n",
    "    cursor = cnx.cursor()\n",
    "    query = f\"\"\"\n",
    "    SELECT TOP 1 id\n",
    "    FROM INFORMATION_SCHEMA.TABLES \n",
    "    WHERE TABLE_SCHEMA = %s and TABLE_NAME = %s\n",
    "    \"\"\"\n",
    "    params = [schema_name, collection_name]\n",
    "    cursor.execute(query, params)\n",
    "    rows = cursor.fetchall()\n",
    "    if len(rows) == 0:\n",
    "        return False\n",
    "\n",
    "    del cursor, query, params, rows\n",
    "    \n",
    "    cursor = cnx.cursor()\n",
    "    query = f\"\"\"\n",
    "    SELECT TOP 1 id\n",
    "    FROM {collection_name}\n",
    "    WHERE id = %s\n",
    "    \"\"\"\n",
    "    params = [id]\n",
    "    cursor.execute(query, params)\n",
    "    rows = cursor.fetchall()\n",
    "    return len(rows) > 0"
   ]
  },
  {
   "cell_type": "code",
   "execution_count": 17,
   "id": "48d7131d-7f0f-4cfa-83b0-873a77c0d2d5",
   "metadata": {
    "jupyter": {
     "source_hidden": true
    }
   },
   "outputs": [],
   "source": [
    "def filter_not_in_collection(cnx, collection_name, docs_array, ids_array):\n",
    "    \"\"\"\n",
    "    Filter out documents whose IDs already exist in a specified database collection.\n",
    "\n",
    "    This function takes an array of documents and their corresponding IDs, and returns a tuple containing \n",
    "    two lists: one with documents that do not have matching IDs in the specified collection, and another \n",
    "    with their corresponding IDs.\n",
    "\n",
    "    Args:\n",
    "        cnx: An IRIS connection object.\n",
    "        collection_name (str): The name of the collection (table) to check for existing IDs.\n",
    "        docs_array (list): A list of documents to be checked.\n",
    "        ids_array (list): A list of IDs corresponding to the documents.\n",
    "\n",
    "    Returns:\n",
    "        tuple: A tuple of two lists:\n",
    "            - The first list contains documents not present in the collection.\n",
    "            - The second list contains the corresponding IDs of those documents.\n",
    "    \"\"\"\n",
    "    \n",
    "    filtered = [x for x in zip(docs_array, ids_array) if not exists_in_db(cnx, collection_name, x[1])]\n",
    "    return list(zip(*filtered)) or ([], [])"
   ]
  },
  {
   "cell_type": "markdown",
   "id": "5c8c3d80-d5cc-4d21-903c-9e7f624e31d5",
   "metadata": {},
   "source": [
    "## Database schema context management"
   ]
  },
  {
   "cell_type": "code",
   "execution_count": 18,
   "id": "899b0415-a482-4414-9059-7d80b42d8f83",
   "metadata": {},
   "outputs": [
    {
     "data": {
      "text/html": [
       "<div>\n",
       "<style scoped>\n",
       "    .dataframe tbody tr th:only-of-type {\n",
       "        vertical-align: middle;\n",
       "    }\n",
       "\n",
       "    .dataframe tbody tr th {\n",
       "        vertical-align: top;\n",
       "    }\n",
       "\n",
       "    .dataframe thead th {\n",
       "        text-align: right;\n",
       "    }\n",
       "</style>\n",
       "<table border=\"1\" class=\"dataframe\">\n",
       "  <thead>\n",
       "    <tr style=\"text-align: right;\">\n",
       "      <th></th>\n",
       "      <th>col_def</th>\n",
       "      <th>id</th>\n",
       "    </tr>\n",
       "  </thead>\n",
       "  <tbody>\n",
       "    <tr>\n",
       "      <th>0</th>\n",
       "      <td>CREATE TABLE Aviation.Aircraft (\\n  Event bigi...</td>\n",
       "      <td>1</td>\n",
       "    </tr>\n",
       "    <tr>\n",
       "      <th>1</th>\n",
       "      <td>CREATE TABLE Aviation.Crew (\\n  Aircraft varch...</td>\n",
       "      <td>2</td>\n",
       "    </tr>\n",
       "    <tr>\n",
       "      <th>2</th>\n",
       "      <td>CREATE TABLE Aviation.Event (\\n  ID bigint NOT...</td>\n",
       "      <td>3</td>\n",
       "    </tr>\n",
       "  </tbody>\n",
       "</table>\n",
       "</div>"
      ],
      "text/plain": [
       "                                             col_def  id\n",
       "0  CREATE TABLE Aviation.Aircraft (\\n  Event bigi...   1\n",
       "1  CREATE TABLE Aviation.Crew (\\n  Aircraft varch...   2\n",
       "2  CREATE TABLE Aviation.Event (\\n  ID bigint NOT...   3"
      ]
     },
     "execution_count": 18,
     "metadata": {},
     "output_type": "execute_result"
    }
   ],
   "source": [
    "table_def = get_table_definitions_array(cnx=cnx, schema='Aviation')\n",
    "table_df = pd.DataFrame(data=table_def, columns=[\"col_def\"])\n",
    "table_df[\"id\"] = table_df.index + 1\n",
    "table_df"
   ]
  },
  {
   "cell_type": "code",
   "execution_count": 19,
   "id": "92addc1a-43ed-4307-a6c5-b265986339e9",
   "metadata": {},
   "outputs": [
    {
     "data": {
      "text/plain": [
       "[Document(metadata={'id': 1}, page_content='CREATE TABLE Aviation.Aircraft (\\n  Event bigint NOT NULL,\\n  ID varchar NOT NULL,\\n  AccidentExplosion varchar,\\n  AccidentFire varchar,\\n  AirFrameHours varchar,\\n  AirFrameHoursSince varchar,\\n  AirFrameHoursSinceLastInspection varchar,\\n  AircraftCategory varchar,\\n  AircraftCertMaxGrossWeight integer,\\n  AircraftHomeBuilt varchar,\\n  AircraftKey integer NOT NULL,\\n  AircraftManufacturer varchar,'),\n",
       " Document(metadata={'id': 1}, page_content='AircraftModel varchar,\\n  AircraftRegistrationClass varchar,\\n  AircraftSerialNo varchar,\\n  AircraftSeries varchar,\\n  Damage varchar,\\n  DepartureAirportId varchar,\\n  DepartureCity varchar,\\n  DepartureCountry varchar,\\n  DepartureSameAsEvent varchar,\\n  DepartureState varchar,\\n  DepartureTime integer,\\n  DepartureTimeZone varchar,\\n  DestinationAirportId varchar,\\n  DestinationCity varchar,'),\n",
       " Document(metadata={'id': 1}, page_content='DestinationCountry varchar,\\n  DestinationSameAsLocal varchar,\\n  DestinationState varchar,\\n  EngineCount integer,\\n  EvacuationOccurred varchar,\\n  EventId varchar NOT NULL,\\n  FlightMedical varchar,\\n  FlightMedicalType varchar,\\n  FlightPhase integer,\\n  FlightPlan varchar,\\n  FlightPlanActivated varchar,\\n  FlightSiteSeeing varchar,\\n  FlightType varchar,\\n  GearType varchar,'),\n",
       " Document(metadata={'id': 1}, page_content='GearType varchar,\\n  LastInspectionDate timestamp,\\n  LastInspectionType varchar,\\n  Missing varchar,\\n  OperationDomestic varchar,\\n  OperationScheduled varchar,\\n  OperationType varchar,\\n  OperatorCertificate varchar,\\n  OperatorCertificateNum varchar,\\n  OperatorCode varchar,\\n  OperatorCountry varchar,\\n  OperatorIndividual varchar,\\n  OperatorName varchar,\\n  OperatorState varchar,\\n  Owner varchar,'),\n",
       " Document(metadata={'id': 1}, page_content='Owner varchar,\\n  OwnerCertified varchar,\\n  OwnerCountry varchar,\\n  OwnerState varchar,\\n  RegistrationNumber varchar,\\n  ReportedToICAO varchar,\\n  SeatsCabinCrew integer,\\n  SeatsFlightCrew integer,\\n  SeatsPassengers integer,\\n  SeatsTotal integer,\\n  SecondPilot varchar,\\n  childsub bigint NOT NULL DEFAULT $i(^Aviation.EventC(\"Aircraft\"))\\n);'),\n",
       " Document(metadata={'id': 2}, page_content='CREATE TABLE Aviation.Crew (\\n  Aircraft varchar NOT NULL,\\n  ID varchar NOT NULL,\\n  Age integer,\\n  AircraftKey integer NOT NULL,\\n  Category varchar,\\n  CrewNumber integer NOT NULL,\\n  EventId varchar NOT NULL,\\n  Injury varchar,\\n  MedicalCertification varchar,\\n  MedicalCertificationDate timestamp,\\n  MedicalCertificationValid varchar,\\n  Seat varchar,\\n  SeatbeltUsed varchar,\\n  Sex varchar,'),\n",
       " Document(metadata={'id': 2}, page_content='Sex varchar,\\n  ShoulderHarnessUsed varchar,\\n  ToxicologyTestPerformed varchar,\\n  childsub bigint NOT NULL DEFAULT $i(^Aviation.AircraftC(\"Crew\"))\\n);'),\n",
       " Document(metadata={'id': 3}, page_content='CREATE TABLE Aviation.Event (\\n  ID bigint NOT NULL DEFAULT $i(^Aviation.EventD),\\n  AirportDirection integer,\\n  AirportDistance varchar,\\n  AirportElevation integer,\\n  AirportLocation varchar,\\n  AirportName varchar,\\n  Altimeter varchar,\\n  EventDate timestamp,\\n  EventId varchar NOT NULL,\\n  EventTime integer,\\n  FAADistrictOffice varchar,\\n  InjuriesGroundFatal integer,\\n  InjuriesGroundMinor integer,'),\n",
       " Document(metadata={'id': 3}, page_content='InjuriesGroundSerious integer,\\n  InjuriesHighest varchar,\\n  InjuriesTotal integer,\\n  InjuriesTotalFatal integer,\\n  InjuriesTotalMinor integer,\\n  InjuriesTotalNone integer,\\n  InjuriesTotalSerious integer,\\n  InvestigatingAgency varchar,\\n  LightConditions varchar,\\n  LocationCity varchar,\\n  LocationCoordsLatitude double,\\n  LocationCoordsLongitude double,\\n  LocationCountry varchar,'),\n",
       " Document(metadata={'id': 3}, page_content='LocationSiteZipCode varchar,\\n  LocationState varchar,\\n  MidAir varchar,\\n  NTSBId varchar,\\n  NarrativeCause varchar,\\n  NarrativeFull varchar,\\n  NarrativeSummary varchar,\\n  OnGroundCollision varchar,\\n  SkyConditionCeiling varchar,\\n  SkyConditionCeilingHeight integer,\\n  SkyConditionNonCeiling varchar,\\n  SkyConditionNonCeilingHeight integer,\\n  TimeZone varchar,\\n  Type varchar,\\n  Visibility varchar,'),\n",
       " Document(metadata={'id': 3}, page_content='WeatherAirTemperature integer,\\n  WeatherPrecipitation varchar,\\n  WindDirection integer,\\n  WindDirectionIndicator varchar,\\n  WindGust integer,\\n  WindGustIndicator varchar,\\n  WindVelocity integer,\\n  WindVelocityIndicator varchar\\n);')]"
      ]
     },
     "execution_count": 19,
     "metadata": {},
     "output_type": "execute_result"
    }
   ],
   "source": [
    "loader = DataFrameLoader(table_df, page_content_column=\"col_def\")\n",
    "documents = loader.load()\n",
    "text_splitter = CharacterTextSplitter(chunk_size=400, chunk_overlap=20, separator=\"\\n\")\n",
    "tables_docs = text_splitter.split_documents(documents)\n",
    "tables_docs"
   ]
  },
  {
   "cell_type": "code",
   "execution_count": 20,
   "id": "c3b0362f-7ad2-4ec7-b411-d3ce7ae6384f",
   "metadata": {},
   "outputs": [
    {
     "name": "stdout",
     "output_type": "stream",
     "text": [
      "tables yet not stored by IRISVector:\n",
      " (Document(metadata={'id': 1}, page_content='CREATE TABLE Aviation.Aircraft (\\n  Event bigint NOT NULL,\\n  ID varchar NOT NULL,\\n  AccidentExplosion varchar,\\n  AccidentFire varchar,\\n  AirFrameHours varchar,\\n  AirFrameHoursSince varchar,\\n  AirFrameHoursSinceLastInspection varchar,\\n  AircraftCategory varchar,\\n  AircraftCertMaxGrossWeight integer,\\n  AircraftHomeBuilt varchar,\\n  AircraftKey integer NOT NULL,\\n  AircraftManufacturer varchar,'), Document(metadata={'id': 1}, page_content='AircraftModel varchar,\\n  AircraftRegistrationClass varchar,\\n  AircraftSerialNo varchar,\\n  AircraftSeries varchar,\\n  Damage varchar,\\n  DepartureAirportId varchar,\\n  DepartureCity varchar,\\n  DepartureCountry varchar,\\n  DepartureSameAsEvent varchar,\\n  DepartureState varchar,\\n  DepartureTime integer,\\n  DepartureTimeZone varchar,\\n  DestinationAirportId varchar,\\n  DestinationCity varchar,'), Document(metadata={'id': 1}, page_content='DestinationCountry varchar,\\n  DestinationSameAsLocal varchar,\\n  DestinationState varchar,\\n  EngineCount integer,\\n  EvacuationOccurred varchar,\\n  EventId varchar NOT NULL,\\n  FlightMedical varchar,\\n  FlightMedicalType varchar,\\n  FlightPhase integer,\\n  FlightPlan varchar,\\n  FlightPlanActivated varchar,\\n  FlightSiteSeeing varchar,\\n  FlightType varchar,\\n  GearType varchar,'), Document(metadata={'id': 1}, page_content='GearType varchar,\\n  LastInspectionDate timestamp,\\n  LastInspectionType varchar,\\n  Missing varchar,\\n  OperationDomestic varchar,\\n  OperationScheduled varchar,\\n  OperationType varchar,\\n  OperatorCertificate varchar,\\n  OperatorCertificateNum varchar,\\n  OperatorCode varchar,\\n  OperatorCountry varchar,\\n  OperatorIndividual varchar,\\n  OperatorName varchar,\\n  OperatorState varchar,\\n  Owner varchar,'), Document(metadata={'id': 1}, page_content='Owner varchar,\\n  OwnerCertified varchar,\\n  OwnerCountry varchar,\\n  OwnerState varchar,\\n  RegistrationNumber varchar,\\n  ReportedToICAO varchar,\\n  SeatsCabinCrew integer,\\n  SeatsFlightCrew integer,\\n  SeatsPassengers integer,\\n  SeatsTotal integer,\\n  SecondPilot varchar,\\n  childsub bigint NOT NULL DEFAULT $i(^Aviation.EventC(\"Aircraft\"))\\n);'), Document(metadata={'id': 2}, page_content='CREATE TABLE Aviation.Crew (\\n  Aircraft varchar NOT NULL,\\n  ID varchar NOT NULL,\\n  Age integer,\\n  AircraftKey integer NOT NULL,\\n  Category varchar,\\n  CrewNumber integer NOT NULL,\\n  EventId varchar NOT NULL,\\n  Injury varchar,\\n  MedicalCertification varchar,\\n  MedicalCertificationDate timestamp,\\n  MedicalCertificationValid varchar,\\n  Seat varchar,\\n  SeatbeltUsed varchar,\\n  Sex varchar,'), Document(metadata={'id': 2}, page_content='Sex varchar,\\n  ShoulderHarnessUsed varchar,\\n  ToxicologyTestPerformed varchar,\\n  childsub bigint NOT NULL DEFAULT $i(^Aviation.AircraftC(\"Crew\"))\\n);'), Document(metadata={'id': 3}, page_content='CREATE TABLE Aviation.Event (\\n  ID bigint NOT NULL DEFAULT $i(^Aviation.EventD),\\n  AirportDirection integer,\\n  AirportDistance varchar,\\n  AirportElevation integer,\\n  AirportLocation varchar,\\n  AirportName varchar,\\n  Altimeter varchar,\\n  EventDate timestamp,\\n  EventId varchar NOT NULL,\\n  EventTime integer,\\n  FAADistrictOffice varchar,\\n  InjuriesGroundFatal integer,\\n  InjuriesGroundMinor integer,'), Document(metadata={'id': 3}, page_content='InjuriesGroundSerious integer,\\n  InjuriesHighest varchar,\\n  InjuriesTotal integer,\\n  InjuriesTotalFatal integer,\\n  InjuriesTotalMinor integer,\\n  InjuriesTotalNone integer,\\n  InjuriesTotalSerious integer,\\n  InvestigatingAgency varchar,\\n  LightConditions varchar,\\n  LocationCity varchar,\\n  LocationCoordsLatitude double,\\n  LocationCoordsLongitude double,\\n  LocationCountry varchar,'), Document(metadata={'id': 3}, page_content='LocationSiteZipCode varchar,\\n  LocationState varchar,\\n  MidAir varchar,\\n  NTSBId varchar,\\n  NarrativeCause varchar,\\n  NarrativeFull varchar,\\n  NarrativeSummary varchar,\\n  OnGroundCollision varchar,\\n  SkyConditionCeiling varchar,\\n  SkyConditionCeilingHeight integer,\\n  SkyConditionNonCeiling varchar,\\n  SkyConditionNonCeilingHeight integer,\\n  TimeZone varchar,\\n  Type varchar,\\n  Visibility varchar,'), Document(metadata={'id': 3}, page_content='WeatherAirTemperature integer,\\n  WeatherPrecipitation varchar,\\n  WindDirection integer,\\n  WindDirectionIndicator varchar,\\n  WindGust integer,\\n  WindGustIndicator varchar,\\n  WindVelocity integer,\\n  WindVelocityIndicator varchar\\n);')) ('94b53eaa4de39b9f0ecb0fddeac3a8f7', '932a32ae183d022b90efdb5018d10167', 'f47c9a54a40d62f4535786c7ca27a876', '5accce5259a13d7d8602c5d90f2f5bd9', '99731226b9c3caf16ac2c82b75cac4de', 'ce3b3f9c1b7623187dcc4ca70df1cc36', 'f7eeaeaade6a8b3ea031d46313024f0e', '67252faf5c471fd8ab1132ee1f21d75b', '67826c4c9500353fa1836b01f0513ff2', 'd512b754eb5529703d320c51dbaa3144', '010864a2cb8b4e73ea80a2e654235551')\n"
     ]
    }
   ],
   "source": [
    "new_tables_docs, tables_docs_ids = filter_not_in_collection(\n",
    "    cnx, \n",
    "    \"sql_tables\", \n",
    "    tables_docs, \n",
    "    get_ids_from_string_array([x.page_content for x in tables_docs])\n",
    ")\n",
    "print(\"tables yet not stored by IRISVector:\\n\", new_tables_docs, tables_docs_ids)"
   ]
  },
  {
   "cell_type": "code",
   "execution_count": 21,
   "id": "ab95d13c-8a30-4c8d-8abf-d09fc47fd7a9",
   "metadata": {},
   "outputs": [],
   "source": [
    "db = IRISVector.from_documents(\n",
    "    embedding = OpenAIEmbeddings(), \n",
    "    # embedding = HuggingFaceEmbeddings(model_name=\"all-MiniLM-L6-v2\"),\n",
    "    # embedding = FastEmbeddings(),\n",
    "    # embedding = FakeEmbeddings(size=123),\n",
    "    documents = tables_docs,\n",
    "    connection_string=iris_conn_str,\n",
    "    collection_name=\"sql_tables\",\n",
    "    ids=tables_docs_ids\n",
    ")"
   ]
  },
  {
   "cell_type": "code",
   "execution_count": 22,
   "id": "a6341018-fe58-49c6-8072-19b26780a288",
   "metadata": {},
   "outputs": [
    {
     "data": {
      "text/plain": [
       "[Document(metadata={'id': 3}, page_content='LocationSiteZipCode varchar,\\n  LocationState varchar,\\n  MidAir varchar,\\n  NTSBId varchar,\\n  NarrativeCause varchar,\\n  NarrativeFull varchar,\\n  NarrativeSummary varchar,\\n  OnGroundCollision varchar,\\n  SkyConditionCeiling varchar,\\n  SkyConditionCeilingHeight integer,\\n  SkyConditionNonCeiling varchar,\\n  SkyConditionNonCeilingHeight integer,\\n  TimeZone varchar,\\n  Type varchar,\\n  Visibility varchar,'),\n",
       " Document(metadata={'id': 1}, page_content='DestinationCountry varchar,\\n  DestinationSameAsLocal varchar,\\n  DestinationState varchar,\\n  EngineCount integer,\\n  EvacuationOccurred varchar,\\n  EventId varchar NOT NULL,\\n  FlightMedical varchar,\\n  FlightMedicalType varchar,\\n  FlightPhase integer,\\n  FlightPlan varchar,\\n  FlightPlanActivated varchar,\\n  FlightSiteSeeing varchar,\\n  FlightType varchar,\\n  GearType varchar,'),\n",
       " Document(metadata={'id': 3}, page_content='InjuriesGroundSerious integer,\\n  InjuriesHighest varchar,\\n  InjuriesTotal integer,\\n  InjuriesTotalFatal integer,\\n  InjuriesTotalMinor integer,\\n  InjuriesTotalNone integer,\\n  InjuriesTotalSerious integer,\\n  InvestigatingAgency varchar,\\n  LightConditions varchar,\\n  LocationCity varchar,\\n  LocationCoordsLatitude double,\\n  LocationCoordsLongitude double,\\n  LocationCountry varchar,'),\n",
       " Document(metadata={'id': 3}, page_content='CREATE TABLE Aviation.Event (\\n  ID bigint NOT NULL DEFAULT $i(^Aviation.EventD),\\n  AirportDirection integer,\\n  AirportDistance varchar,\\n  AirportElevation integer,\\n  AirportLocation varchar,\\n  AirportName varchar,\\n  Altimeter varchar,\\n  EventDate timestamp,\\n  EventId varchar NOT NULL,\\n  EventTime integer,\\n  FAADistrictOffice varchar,\\n  InjuriesGroundFatal integer,\\n  InjuriesGroundMinor integer,')]"
      ]
     },
     "execution_count": 22,
     "metadata": {},
     "output_type": "execute_result"
    }
   ],
   "source": [
    "relevant_tables_docs = db.similarity_search(context[\"input\"])\n",
    "relevant_tables_docs"
   ]
  },
  {
   "cell_type": "code",
   "execution_count": 23,
   "id": "e830d460-e1b3-4346-98d5-17cc7e7fce4b",
   "metadata": {},
   "outputs": [
    {
     "name": "stdout",
     "output_type": "stream",
     "text": [
      "CREATE TABLE Aviation.Aircraft (\n",
      "  Event bigint NOT NULL,\n",
      "  ID varchar NOT NULL,\n",
      "  AccidentExplosion varchar,\n",
      "  AccidentFire varchar,\n",
      "  AirFrameHours varchar,\n",
      "  AirFrameHoursSince varchar,\n",
      "  AirFrameHoursSinceLastInspection varchar,\n",
      "  AircraftCategory varchar,\n",
      "  AircraftCertMaxGrossWeight integer,\n",
      "  AircraftHomeBuilt varchar,\n",
      "  AircraftKey integer NOT NULL,\n",
      "  AircraftManufacturer varchar,\n",
      "  AircraftModel varchar,\n",
      "  AircraftRegistrationClass varchar,\n",
      "  AircraftSerialNo varchar,\n",
      "  AircraftSeries varchar,\n",
      "  Damage varchar,\n",
      "  DepartureAirportId varchar,\n",
      "  DepartureCity varchar,\n",
      "  DepartureCountry varchar,\n",
      "  DepartureSameAsEvent varchar,\n",
      "  DepartureState varchar,\n",
      "  DepartureTime integer,\n",
      "  DepartureTimeZone varchar,\n",
      "  DestinationAirportId varchar,\n",
      "  DestinationCity varchar,\n",
      "  DestinationCountry varchar,\n",
      "  DestinationSameAsLocal varchar,\n",
      "  DestinationState varchar,\n",
      "  EngineCount integer,\n",
      "  EvacuationOccurred varchar,\n",
      "  EventId varchar NOT NULL,\n",
      "  FlightMedical varchar,\n",
      "  FlightMedicalType varchar,\n",
      "  FlightPhase integer,\n",
      "  FlightPlan varchar,\n",
      "  FlightPlanActivated varchar,\n",
      "  FlightSiteSeeing varchar,\n",
      "  FlightType varchar,\n",
      "  GearType varchar,\n",
      "  LastInspectionDate timestamp,\n",
      "  LastInspectionType varchar,\n",
      "  Missing varchar,\n",
      "  OperationDomestic varchar,\n",
      "  OperationScheduled varchar,\n",
      "  OperationType varchar,\n",
      "  OperatorCertificate varchar,\n",
      "  OperatorCertificateNum varchar,\n",
      "  OperatorCode varchar,\n",
      "  OperatorCountry varchar,\n",
      "  OperatorIndividual varchar,\n",
      "  OperatorName varchar,\n",
      "  OperatorState varchar,\n",
      "  Owner varchar,\n",
      "  OwnerCertified varchar,\n",
      "  OwnerCountry varchar,\n",
      "  OwnerState varchar,\n",
      "  RegistrationNumber varchar,\n",
      "  ReportedToICAO varchar,\n",
      "  SeatsCabinCrew integer,\n",
      "  SeatsFlightCrew integer,\n",
      "  SeatsPassengers integer,\n",
      "  SeatsTotal integer,\n",
      "  SecondPilot varchar,\n",
      "  childsub bigint NOT NULL DEFAULT $i(^Aviation.EventC(\"Aircraft\"))\n",
      ");\n",
      "\n",
      "CREATE TABLE Aviation.Event (\n",
      "  ID bigint NOT NULL DEFAULT $i(^Aviation.EventD),\n",
      "  AirportDirection integer,\n",
      "  AirportDistance varchar,\n",
      "  AirportElevation integer,\n",
      "  AirportLocation varchar,\n",
      "  AirportName varchar,\n",
      "  Altimeter varchar,\n",
      "  EventDate timestamp,\n",
      "  EventId varchar NOT NULL,\n",
      "  EventTime integer,\n",
      "  FAADistrictOffice varchar,\n",
      "  InjuriesGroundFatal integer,\n",
      "  InjuriesGroundMinor integer,\n",
      "  InjuriesGroundSerious integer,\n",
      "  InjuriesHighest varchar,\n",
      "  InjuriesTotal integer,\n",
      "  InjuriesTotalFatal integer,\n",
      "  InjuriesTotalMinor integer,\n",
      "  InjuriesTotalNone integer,\n",
      "  InjuriesTotalSerious integer,\n",
      "  InvestigatingAgency varchar,\n",
      "  LightConditions varchar,\n",
      "  LocationCity varchar,\n",
      "  LocationCoordsLatitude double,\n",
      "  LocationCoordsLongitude double,\n",
      "  LocationCountry varchar,\n",
      "  LocationSiteZipCode varchar,\n",
      "  LocationState varchar,\n",
      "  MidAir varchar,\n",
      "  NTSBId varchar,\n",
      "  NarrativeCause varchar,\n",
      "  NarrativeFull varchar,\n",
      "  NarrativeSummary varchar,\n",
      "  OnGroundCollision varchar,\n",
      "  SkyConditionCeiling varchar,\n",
      "  SkyConditionCeilingHeight integer,\n",
      "  SkyConditionNonCeiling varchar,\n",
      "  SkyConditionNonCeilingHeight integer,\n",
      "  TimeZone varchar,\n",
      "  Type varchar,\n",
      "  Visibility varchar,\n",
      "  WeatherAirTemperature integer,\n",
      "  WeatherPrecipitation varchar,\n",
      "  WindDirection integer,\n",
      "  WindDirectionIndicator varchar,\n",
      "  WindGust integer,\n",
      "  WindGustIndicator varchar,\n",
      "  WindVelocity integer,\n",
      "  WindVelocityIndicator varchar\n",
      ");\n"
     ]
    }
   ],
   "source": [
    "relevant_tables_docs_indices = [x.metadata[\"id\"] for x in relevant_tables_docs]\n",
    "indices = table_df[\"id\"].isin(relevant_tables_docs_indices)\n",
    "relevant_tables_array = [x for x in table_df[indices][\"col_def\"]]\n",
    "context[\"table_info\"] = \"\\n\\n\".join(relevant_tables_array)\n",
    "print(context[\"table_info\"])"
   ]
  },
  {
   "cell_type": "markdown",
   "id": "0d7754ed-8bdc-47cb-b510-47830f80bff1",
   "metadata": {},
   "source": [
    "## Few shots management"
   ]
  },
  {
   "cell_type": "code",
   "execution_count": 24,
   "id": "b20b9f8e-f870-43cb-81eb-c05d66e9e9dc",
   "metadata": {
    "jupyter": {
     "source_hidden": true
    }
   },
   "outputs": [],
   "source": [
    "examples = [\n",
    "    {\n",
    "        \"input\": \"List all aircrafts.\", \n",
    "        \"query\": \"SELECT * FROM Aviation.Aircraft\"\n",
    "    },\n",
    "    {\n",
    "        \"input\": \"Find all incidents for the aircraft with ID 'N12345'.\",\n",
    "        \"query\": \"SELECT * FROM Aviation.Event WHERE EventId IN (SELECT EventId FROM Aviation.Aircraft WHERE ID = 'N12345')\"\n",
    "    },\n",
    "    {\n",
    "        \"input\": \"List all incidents in the 'Commercial' operation type.\",\n",
    "        \"query\": \"SELECT * FROM Aviation.Event WHERE EventId IN (SELECT EventId FROM Aviation.Aircraft WHERE OperationType = 'Commercial')\"\n",
    "    },\n",
    "    {\n",
    "        \"input\": \"Find the total number of incidents.\",\n",
    "        \"query\": \"SELECT COUNT(*) FROM Aviation.Event\"\n",
    "    },\n",
    "    {\n",
    "        \"input\": \"List all incidents that occurred in 'Canada'.\",\n",
    "        \"query\": \"SELECT * FROM Aviation.Event WHERE LocationCountry = 'Canada'\"\n",
    "    },\n",
    "    {\n",
    "        \"input\": \"How many incidents are associated with the aircraft with AircraftKey 5?\",\n",
    "        \"query\": \"SELECT COUNT(*) FROM Aviation.Aircraft WHERE AircraftKey = 5\"\n",
    "    },\n",
    "    {\n",
    "        \"input\": \"Find the total number of distinct aircrafts involved in incidents.\",\n",
    "        \"query\": \"SELECT COUNT(DISTINCT AircraftKey) FROM Aviation.Aircraft\"\n",
    "    },\n",
    "    {\n",
    "        \"input\": \"List all incidents that occurred after 5 PM.\",\n",
    "        \"query\": \"SELECT * FROM Aviation.Event WHERE EventTime > 1700\"\n",
    "    },\n",
    "    {\n",
    "        \"input\": \"Who are the top 5 operators by the number of incidents?\",\n",
    "        \"query\": \"SELECT TOP 5 OperatorName, COUNT(*) AS IncidentCount FROM Aviation.Aircraft GROUP BY OperatorName ORDER BY IncidentCount DESC\"\n",
    "    },\n",
    "    {\n",
    "        \"input\": \"Which incidents occurred in the year 2020?\",\n",
    "        \"query\": \"SELECT * FROM Aviation.Event WHERE YEAR(EventDate) = '2020'\"\n",
    "    },\n",
    "    {\n",
    "        \"input\": \"What was the month with most events in the year 2020?\",\n",
    "        \"query\": \"SELECT TOP 1 MONTH(EventDate) EventMonth, COUNT(*) EventCount FROM Aviation.Event WHERE YEAR(EventDate) = '2020' GROUP BY MONTH(EventDate) ORDER BY EventCount DESC\"\n",
    "    },\n",
    "    {\n",
    "        \"input\": \"How many crew members were involved in incidents?\",\n",
    "        \"query\": \"SELECT COUNT(*) FROM Aviation.Crew\"\n",
    "    },\n",
    "    {\n",
    "        \"input\": \"List all incidents with detailed aircraft information for incidents that occurred in the year 2012.\",\n",
    "        \"query\": \"SELECT e.EventId, e.EventDate, a.AircraftManufacturer, a.AircraftModel, a.AircraftCategory FROM Aviation.Event e JOIN Aviation.Aircraft a ON e.EventId = a.EventId WHERE Year(e.EventDate) = 2012\"\n",
    "    },\n",
    "    {\n",
    "        \"input\": \"Find all incidents where there were more than 5 injuries and include the aircraft manufacturer and model.\",\n",
    "        \"query\": \"SELECT e.EventId, e.InjuriesTotal, a.AircraftManufacturer, a.AircraftModel FROM Aviation.Event e JOIN Aviation.Aircraft a ON e.EventId = a.EventId WHERE e.InjuriesTotal > 5\"\n",
    "    },\n",
    "    {\n",
    "        \"input\": \"List all crew members involved in incidents with serious injuries, along with the incident date and location.\",\n",
    "        \"query\": \"SELECT c.CrewNumber, c.Age, c.Sex, e.EventDate, e.LocationCity, e.LocationState FROM Aviation.Crew c JOIN Aviation.Event e ON c.EventId = e.EventId WHERE c.Injury = 'Serious'\"\n",
    "    },\n",
    "]\n"
   ]
  },
  {
   "cell_type": "code",
   "execution_count": 25,
   "id": "3553f68e-e03a-4e24-aab2-f88fa9b67565",
   "metadata": {},
   "outputs": [
    {
     "name": "stdout",
     "output_type": "stream",
     "text": [
      "samples yet not stored by IRISVector:\n",
      " ({'input': 'List all aircrafts.', 'query': 'SELECT * FROM Aviation.Aircraft'}, {'input': \"Find all incidents for the aircraft with ID 'N12345'.\", 'query': \"SELECT * FROM Aviation.Event WHERE EventId IN (SELECT EventId FROM Aviation.Aircraft WHERE ID = 'N12345')\"}, {'input': \"List all incidents in the 'Commercial' operation type.\", 'query': \"SELECT * FROM Aviation.Event WHERE EventId IN (SELECT EventId FROM Aviation.Aircraft WHERE OperationType = 'Commercial')\"}, {'input': 'Find the total number of incidents.', 'query': 'SELECT COUNT(*) FROM Aviation.Event'}, {'input': \"List all incidents that occurred in 'Canada'.\", 'query': \"SELECT * FROM Aviation.Event WHERE LocationCountry = 'Canada'\"}, {'input': 'How many incidents are associated with the aircraft with AircraftKey 5?', 'query': 'SELECT COUNT(*) FROM Aviation.Aircraft WHERE AircraftKey = 5'}, {'input': 'Find the total number of distinct aircrafts involved in incidents.', 'query': 'SELECT COUNT(DISTINCT AircraftKey) FROM Aviation.Aircraft'}, {'input': 'List all incidents that occurred after 5 PM.', 'query': 'SELECT * FROM Aviation.Event WHERE EventTime > 1700'}, {'input': 'Who are the top 5 operators by the number of incidents?', 'query': 'SELECT TOP 5 OperatorName, COUNT(*) AS IncidentCount FROM Aviation.Aircraft GROUP BY OperatorName ORDER BY IncidentCount DESC'}, {'input': 'Which incidents occurred in the year 2020?', 'query': \"SELECT * FROM Aviation.Event WHERE YEAR(EventDate) = '2020'\"}, {'input': 'What was the month with most events in the year 2020?', 'query': \"SELECT TOP 1 MONTH(EventDate) EventMonth, COUNT(*) EventCount FROM Aviation.Event WHERE YEAR(EventDate) = '2020' GROUP BY MONTH(EventDate) ORDER BY EventCount DESC\"}, {'input': 'How many crew members were involved in incidents?', 'query': 'SELECT COUNT(*) FROM Aviation.Crew'}, {'input': 'List all incidents with detailed aircraft information for incidents that occurred in the year 2012.', 'query': 'SELECT e.EventId, e.EventDate, a.AircraftManufacturer, a.AircraftModel, a.AircraftCategory FROM Aviation.Event e JOIN Aviation.Aircraft a ON e.EventId = a.EventId WHERE Year(e.EventDate) = 2012'}, {'input': 'Find all incidents where there were more than 5 injuries and include the aircraft manufacturer and model.', 'query': 'SELECT e.EventId, e.InjuriesTotal, a.AircraftManufacturer, a.AircraftModel FROM Aviation.Event e JOIN Aviation.Aircraft a ON e.EventId = a.EventId WHERE e.InjuriesTotal > 5'}, {'input': 'List all crew members involved in incidents with serious injuries, along with the incident date and location.', 'query': \"SELECT c.CrewNumber, c.Age, c.Sex, e.EventDate, e.LocationCity, e.LocationState FROM Aviation.Crew c JOIN Aviation.Event e ON c.EventId = e.EventId WHERE c.Injury = 'Serious'\"}) ('675bc3d8a92b07c8ab990ff813a97e7f', '5f4edd9a3cd324d1b74ad57ad592dd71', '56d19f9eb972a0489454fb31ce748a08', '17330cccd35921831b05bbf274d4132f', '35eb498c1bf7ef6748631a971eae6911', 'e9547dc697032b03da9e3a186d09b370', '4a5d5086672a7a6326f4da1ea25964df', '4a4e395737c18d979d1408482b318c78', '57479d393ed8be704f9eabf6f7065133', 'f0143a10b0d5befe431867a73a165637', '3ce8d47cbb5fd2dfdd15e3521e4bbfd8', '2a62e011960db752052317750c8979b1', 'e294d25fbea32eda40dd1dedd01cf27e', 'adb66697c09694ecea9aa9d236923848', '3ade09bf488bd31ab832fb1788796afa')\n"
     ]
    }
   ],
   "source": [
    "new_sql_samples, sql_samples_ids = filter_not_in_collection(\n",
    "    cnx, \n",
    "    \"sql_samples\", \n",
    "    examples, \n",
    "    get_ids_from_string_array([x['input'] for x in examples])\n",
    ")\n",
    "print(\"samples yet not stored by IRISVector:\\n\", new_sql_samples, sql_samples_ids)"
   ]
  },
  {
   "cell_type": "code",
   "execution_count": 26,
   "id": "48883fd7-266c-4bd6-9944-ee833d55cc3b",
   "metadata": {},
   "outputs": [],
   "source": [
    "example_selector = SemanticSimilarityExampleSelector.from_examples(\n",
    "    new_sql_samples,\n",
    "    OpenAIEmbeddings(),\n",
    "    IRISVector,\n",
    "    k=5,\n",
    "    input_keys=[\"input\"],\n",
    "    connection_string=iris_conn_str,\n",
    "    collection_name=\"sql_samples\",\n",
    "    ids=sql_samples_ids\n",
    ")"
   ]
  },
  {
   "cell_type": "code",
   "execution_count": 27,
   "id": "b9a52099-dbd0-44cc-b48b-455b6de24eb2",
   "metadata": {},
   "outputs": [
    {
     "data": {
      "text/plain": [
       "[{'input': 'Which incidents occurred in the year 2020?',\n",
       "  'query': \"SELECT * FROM Aviation.Event WHERE YEAR(EventDate) = '2020'\"},\n",
       " {'input': 'What was the month with most events in the year 2020?',\n",
       "  'query': \"SELECT TOP 1 MONTH(EventDate) EventMonth, COUNT(*) EventCount FROM Aviation.Event WHERE YEAR(EventDate) = '2020' GROUP BY MONTH(EventDate) ORDER BY EventCount DESC\"},\n",
       " {'input': 'How many crew members were involved in incidents?',\n",
       "  'query': 'SELECT COUNT(*) FROM Aviation.Crew'},\n",
       " {'input': 'Who are the top 5 operators by the number of incidents?',\n",
       "  'query': 'SELECT TOP 5 OperatorName, COUNT(*) AS IncidentCount FROM Aviation.Aircraft GROUP BY OperatorName ORDER BY IncidentCount DESC'},\n",
       " {'input': \"List all incidents that occurred in 'Canada'.\",\n",
       "  'query': \"SELECT * FROM Aviation.Event WHERE LocationCountry = 'Canada'\"}]"
      ]
     },
     "execution_count": 27,
     "metadata": {},
     "output_type": "execute_result"
    }
   ],
   "source": [
    "example_selector.select_examples({\"input\": context[\"input\"]})"
   ]
  },
  {
   "cell_type": "code",
   "execution_count": 28,
   "id": "35effe8f-b78d-498d-90c2-f72d2f0a0873",
   "metadata": {},
   "outputs": [
    {
     "data": {
      "text/plain": [
       "\"User input: Which incidents occurred in the year 2020?\\nSQL query: SELECT * FROM Aviation.Event WHERE YEAR(EventDate) = '2020'\\n\\nUser input: What was the month with most events in the year 2020?\\nSQL query: SELECT TOP 1 MONTH(EventDate) EventMonth, COUNT(*) EventCount FROM Aviation.Event WHERE YEAR(EventDate) = '2020' GROUP BY MONTH(EventDate) ORDER BY EventCount DESC\\n\\nUser input: How many crew members were involved in incidents?\\nSQL query: SELECT COUNT(*) FROM Aviation.Crew\\n\\nUser input: Who are the top 5 operators by the number of incidents?\\nSQL query: SELECT TOP 5 OperatorName, COUNT(*) AS IncidentCount FROM Aviation.Aircraft GROUP BY OperatorName ORDER BY IncidentCount DESC\\n\\nUser input: List all incidents that occurred in 'Canada'.\\nSQL query: SELECT * FROM Aviation.Event WHERE LocationCountry = 'Canada'\""
      ]
     },
     "execution_count": 28,
     "metadata": {},
     "output_type": "execute_result"
    }
   ],
   "source": [
    "context[\"examples_value\"] = \"\\n\\n\".join([\n",
    "    example_prompt.invoke(x).to_string() for x in example_selector.select_examples({\"input\": context[\"input\"]})\n",
    "])\n",
    "context[\"examples_value\"]"
   ]
  },
  {
   "cell_type": "markdown",
   "id": "6eae9bad-a51e-45c6-8789-1b964c0c82d6",
   "metadata": {},
   "source": [
    "## Prompt execution"
   ]
  },
  {
   "cell_type": "code",
   "execution_count": 29,
   "id": "599105a1-3276-44f6-b9a3-ff3912ecdf89",
   "metadata": {},
   "outputs": [
    {
     "name": "stdout",
     "output_type": "stream",
     "text": [
      "System: \n",
      "You are an InterSystems IRIS expert. Given an input question, first create a syntactically correct InterSystems IRIS query to run and return the answer to the input question.\n",
      "Unless the user specifies in the question a specific number of examples to obtain, query for at most 3 results using the TOP clause as per InterSystems IRIS. You can order the results to return the most informative data in the database.\n",
      "Never query for all columns from a table. You must query only the columns that are needed to answer the question. Wrap each column name in single quotes ('') to denote them as delimited identifiers.\n",
      "Pay attention to use only the column names you can see in the tables below. Be careful to not query for columns that do not exist. Also, pay attention to which column is in which table.\n",
      "Pay attention to use CAST(CURRENT_DATE as date) function to get the current date, if the question involves \"today\".\n",
      "\n",
      "System: \n",
      "Only use the following tables:\n",
      "CREATE TABLE Aviation.Aircraft (\n",
      "  Event bigint NOT NULL,\n",
      "  ID varchar NOT NULL,\n",
      "  AccidentExplosion varchar,\n",
      "  AccidentFire varchar,\n",
      "  AirFrameHours varchar,\n",
      "  AirFrameHoursSince varchar,\n",
      "  AirFrameHoursSinceLastInspection varchar,\n",
      "  AircraftCategory varchar,\n",
      "  AircraftCertMaxGrossWeight integer,\n",
      "  AircraftHomeBuilt varchar,\n",
      "  AircraftKey integer NOT NULL,\n",
      "  AircraftManufacturer varchar,\n",
      "  AircraftModel varchar,\n",
      "  AircraftRegistrationClass varchar,\n",
      "  AircraftSerialNo varchar,\n",
      "  AircraftSeries varchar,\n",
      "  Damage varchar,\n",
      "  DepartureAirportId varchar,\n",
      "  DepartureCity varchar,\n",
      "  DepartureCountry varchar,\n",
      "  DepartureSameAsEvent varchar,\n",
      "  DepartureState varchar,\n",
      "  DepartureTime integer,\n",
      "  DepartureTimeZone varchar,\n",
      "  DestinationAirportId varchar,\n",
      "  DestinationCity varchar,\n",
      "  DestinationCountry varchar,\n",
      "  DestinationSameAsLocal varchar,\n",
      "  DestinationState varchar,\n",
      "  EngineCount integer,\n",
      "  EvacuationOccurred varchar,\n",
      "  EventId varchar NOT NULL,\n",
      "  FlightMedical varchar,\n",
      "  FlightMedicalType varchar,\n",
      "  FlightPhase integer,\n",
      "  FlightPlan varchar,\n",
      "  FlightPlanActivated varchar,\n",
      "  FlightSiteSeeing varchar,\n",
      "  FlightType varchar,\n",
      "  GearType varchar,\n",
      "  LastInspectionDate timestamp,\n",
      "  LastInspectionType varchar,\n",
      "  Missing varchar,\n",
      "  OperationDomestic varchar,\n",
      "  OperationScheduled varchar,\n",
      "  OperationType varchar,\n",
      "  OperatorCertificate varchar,\n",
      "  OperatorCertificateNum varchar,\n",
      "  OperatorCode varchar,\n",
      "  OperatorCountry varchar,\n",
      "  OperatorIndividual varchar,\n",
      "  OperatorName varchar,\n",
      "  OperatorState varchar,\n",
      "  Owner varchar,\n",
      "  OwnerCertified varchar,\n",
      "  OwnerCountry varchar,\n",
      "  OwnerState varchar,\n",
      "  RegistrationNumber varchar,\n",
      "  ReportedToICAO varchar,\n",
      "  SeatsCabinCrew integer,\n",
      "  SeatsFlightCrew integer,\n",
      "  SeatsPassengers integer,\n",
      "  SeatsTotal integer,\n",
      "  SecondPilot varchar,\n",
      "  childsub bigint NOT NULL DEFAULT $i(^Aviation.EventC(\"Aircraft\"))\n",
      ");\n",
      "\n",
      "CREATE TABLE Aviation.Event (\n",
      "  ID bigint NOT NULL DEFAULT $i(^Aviation.EventD),\n",
      "  AirportDirection integer,\n",
      "  AirportDistance varchar,\n",
      "  AirportElevation integer,\n",
      "  AirportLocation varchar,\n",
      "  AirportName varchar,\n",
      "  Altimeter varchar,\n",
      "  EventDate timestamp,\n",
      "  EventId varchar NOT NULL,\n",
      "  EventTime integer,\n",
      "  FAADistrictOffice varchar,\n",
      "  InjuriesGroundFatal integer,\n",
      "  InjuriesGroundMinor integer,\n",
      "  InjuriesGroundSerious integer,\n",
      "  InjuriesHighest varchar,\n",
      "  InjuriesTotal integer,\n",
      "  InjuriesTotalFatal integer,\n",
      "  InjuriesTotalMinor integer,\n",
      "  InjuriesTotalNone integer,\n",
      "  InjuriesTotalSerious integer,\n",
      "  InvestigatingAgency varchar,\n",
      "  LightConditions varchar,\n",
      "  LocationCity varchar,\n",
      "  LocationCoordsLatitude double,\n",
      "  LocationCoordsLongitude double,\n",
      "  LocationCountry varchar,\n",
      "  LocationSiteZipCode varchar,\n",
      "  LocationState varchar,\n",
      "  MidAir varchar,\n",
      "  NTSBId varchar,\n",
      "  NarrativeCause varchar,\n",
      "  NarrativeFull varchar,\n",
      "  NarrativeSummary varchar,\n",
      "  OnGroundCollision varchar,\n",
      "  SkyConditionCeiling varchar,\n",
      "  SkyConditionCeilingHeight integer,\n",
      "  SkyConditionNonCeiling varchar,\n",
      "  SkyConditionNonCeilingHeight integer,\n",
      "  TimeZone varchar,\n",
      "  Type varchar,\n",
      "  Visibility varchar,\n",
      "  WeatherAirTemperature integer,\n",
      "  WeatherPrecipitation varchar,\n",
      "  WindDirection integer,\n",
      "  WindDirectionIndicator varchar,\n",
      "  WindGust integer,\n",
      "  WindGustIndicator varchar,\n",
      "  WindVelocity integer,\n",
      "  WindVelocityIndicator varchar\n",
      ");\n",
      "\n",
      "System: \n",
      "Below are a number of examples of questions and their corresponding SQL queries.\n",
      "\n",
      "User input: Which incidents occurred in the year 2020?\n",
      "SQL query: SELECT * FROM Aviation.Event WHERE YEAR(EventDate) = '2020'\n",
      "\n",
      "User input: What was the month with most events in the year 2020?\n",
      "SQL query: SELECT TOP 1 MONTH(EventDate) EventMonth, COUNT(*) EventCount FROM Aviation.Event WHERE YEAR(EventDate) = '2020' GROUP BY MONTH(EventDate) ORDER BY EventCount DESC\n",
      "\n",
      "User input: How many crew members were involved in incidents?\n",
      "SQL query: SELECT COUNT(*) FROM Aviation.Crew\n",
      "\n",
      "User input: Who are the top 5 operators by the number of incidents?\n",
      "SQL query: SELECT TOP 5 OperatorName, COUNT(*) AS IncidentCount FROM Aviation.Aircraft GROUP BY OperatorName ORDER BY IncidentCount DESC\n",
      "\n",
      "User input: List all incidents that occurred in 'Canada'.\n",
      "SQL query: SELECT * FROM Aviation.Event WHERE LocationCountry = 'Canada'\n",
      "\n",
      "Human: \n",
      "User input: What were the top 3 years with recorded events?\n",
      "SQL query: \n"
     ]
    }
   ],
   "source": [
    "prompt_value = prompt.invoke({\n",
    "    \"top_k\": context[\"top_k\"],\n",
    "    \"table_info\": context[\"table_info\"],\n",
    "    \"examples_value\": context[\"examples_value\"],\n",
    "    \"input\": context[\"input\"]\n",
    "})\n",
    "print(prompt_value.to_string())"
   ]
  },
  {
   "cell_type": "code",
   "execution_count": 30,
   "id": "629a8a41-03fc-40e3-864c-0b0ba3b343bf",
   "metadata": {},
   "outputs": [
    {
     "name": "stdout",
     "output_type": "stream",
     "text": [
      "SELECT TOP 3 YEAR(EventDate) AS EventYear, COUNT(*) AS EventCount\n",
      "FROM Aviation.Event\n",
      "GROUP BY YEAR(EventDate)\n",
      "ORDER BY EventCount DESC\n"
     ]
    }
   ],
   "source": [
    "model = ChatOpenAI(model=\"gpt-3.5-turbo\", temperature=0)\n",
    "output_parser = StrOutputParser()\n",
    "chain_model = prompt | model | output_parser\n",
    "response = chain_model.invoke({\n",
    "    \"top_k\": context[\"top_k\"],\n",
    "    \"table_info\": context[\"table_info\"],\n",
    "    \"examples_value\": context[\"examples_value\"],\n",
    "    \"input\": context[\"input\"]\n",
    "})\n",
    "print(response)"
   ]
  },
  {
   "cell_type": "markdown",
   "id": "144fb6a5-3fa7-4e61-b140-f42dbee9485f",
   "metadata": {},
   "source": [
    "## References"
   ]
  },
  {
   "cell_type": "markdown",
   "id": "5c8ff00b-f00d-4987-adf0-83bbc6ac8601",
   "metadata": {},
   "source": [
    "- https://python.langchain.com/v0.1/docs/expression_language/get_started/\n",
    "- https://python.langchain.com/v0.1/docs/use_cases/sql/prompting/\n",
    "- https://python.langchain.com/v0.1/docs/modules/model_io/prompts/composition/"
   ]
  }
 ],
 "metadata": {
  "kernelspec": {
   "display_name": "Python 3 (ipykernel)",
   "language": "python",
   "name": "python3"
  },
  "language_info": {
   "codemirror_mode": {
    "name": "ipython",
    "version": 3
   },
   "file_extension": ".py",
   "mimetype": "text/x-python",
   "name": "python",
   "nbconvert_exporter": "python",
   "pygments_lexer": "ipython3",
   "version": "3.11.9"
  }
 },
 "nbformat": 4,
 "nbformat_minor": 5
}
